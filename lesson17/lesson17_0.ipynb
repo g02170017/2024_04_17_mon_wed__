{
 "cells": [
  {
   "cell_type": "code",
   "execution_count": null,
   "metadata": {},
   "outputs": [],
   "source": [
    "import requests\n",
    "from requests import Response\n",
    "youbike_url = 'https://tcgbusfs.blob.core.windows.net/dotapp/youbike/v2/youbike_immediate.json'\n",
    "\n",
    "res:Response = requests.get(youbike_url)\n",
    "\n",
    "if res.status_code == 200:\n",
    "    print(\"下載成功\")\n",
    "else:\n",
    "    print(\"下載失敗\")\n",
    "\n",
    "\n",
    "from pydantic import BaseModel,Field,field_validator,RootModel\n",
    "class Site (BaseModel):\n",
    "    站名:str = Field(alias='sna') \n",
    "    行政區域:str = Field(alias='sarea')\n",
    "    時間:str = Field(alias='mday')\n",
    "    位置:str = Field(alias='ar')\n",
    "    狀態:bool = Field(alias='act')\n",
    "    總數量:int = Field(alias='total')\n",
    "    可借:int = Field(alias='available_rent_bikes')\n",
    "    緯度:float = Field(alias='latitude')\n",
    "    經度:float = Field(alias='longitude')     \n",
    "    可還:int = Field(alias='available_return_bikes')\n",
    "\n",
    "    @field_validator('站名',mode='before')\n",
    "    @classmethod\n",
    "    def get_name(cls,value:str) ->str:\n",
    "         return value.split('_')[-1]   \n",
    "\n",
    "class Youbick(RootModel):\n",
    "    root:list[Site]\n",
    "\n",
    "\n",
    "data = Youbick.model_validate_json(res.text)\n",
    "all_sites = data.model_dump()\n",
    "\n",
    "\n",
    "import pandas as pd\n",
    "df = pd.DataFrame(all_sites)\n",
    "df"
   ]
  },
  {
   "cell_type": "code",
   "execution_count": null,
   "metadata": {},
   "outputs": [],
   "source": [
    "df.info()"
   ]
  },
  {
   "cell_type": "code",
   "execution_count": 4,
   "metadata": {},
   "outputs": [
    {
     "data": {
      "text/plain": [
       "(392, 10)"
      ]
     },
     "execution_count": 4,
     "metadata": {},
     "output_type": "execute_result"
    }
   ],
   "source": [
    "import numpy as np\n",
    "\n",
    "less3_df = df.query('可借<=3')\n",
    "less3_df.shape"
   ]
  },
  {
   "cell_type": "code",
   "execution_count": null,
   "metadata": {},
   "outputs": [],
   "source": [
    "df2 = df.query('可借<=3 and 可還>=30')\n",
    "df2"
   ]
  },
  {
   "cell_type": "code",
   "execution_count": null,
   "metadata": {},
   "outputs": [],
   "source": [
    "df2 = df.query('可借<=3 or 可還<=3')\n",
    "df2"
   ]
  },
  {
   "cell_type": "code",
   "execution_count": null,
   "metadata": {},
   "outputs": [],
   "source": [
    "df3 = df.query('行政區域==\"大安區\" and 可借==0')\n",
    "df3"
   ]
  },
  {
   "cell_type": "code",
   "execution_count": null,
   "metadata": {},
   "outputs": [],
   "source": [
    "n = 0\n",
    "df4 = df.query('行政區域==\"大安區\" and 可借==@n')\n",
    "df4"
   ]
  }
 ],
 "metadata": {
  "kernelspec": {
   "display_name": "Python 3",
   "language": "python",
   "name": "python3"
  },
  "language_info": {
   "codemirror_mode": {
    "name": "ipython",
    "version": 3
   },
   "file_extension": ".py",
   "mimetype": "text/x-python",
   "name": "python",
   "nbconvert_exporter": "python",
   "pygments_lexer": "ipython3",
   "version": "3.10.14"
  }
 },
 "nbformat": 4,
 "nbformat_minor": 2
}
