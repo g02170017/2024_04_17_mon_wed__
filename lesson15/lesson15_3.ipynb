{
 "cells": [
  {
   "cell_type": "code",
   "execution_count": 2,
   "metadata": {},
   "outputs": [
    {
     "name": "stdout",
     "output_type": "stream",
     "text": [
      "144\n",
      "===============\n",
      "170\n",
      "===============\n",
      "164\n",
      "===============\n",
      "167\n",
      "===============\n",
      "177\n",
      "===============\n"
     ]
    }
   ],
   "source": [
    "student1 = [69, 78, 72, 91, 85]\n",
    "student2 = [75, 92, 92, 76, 92]\n",
    "\n",
    "for i in range(len(student1)):\n",
    "    scores = student1[i] + student2[i]\n",
    "    print(scores)\n",
    "    print(\"===============\")"
   ]
  },
  {
   "cell_type": "code",
   "execution_count": 3,
   "metadata": {},
   "outputs": [
    {
     "data": {
      "text/plain": [
       "[69, 78, 72, 91, 85, 75, 92, 92, 76, 92]"
      ]
     },
     "execution_count": 3,
     "metadata": {},
     "output_type": "execute_result"
    }
   ],
   "source": [
    "student1 = [69, 78, 72, 91, 85]\n",
    "student2 = [75, 92, 92, 76, 92]\n",
    "\n",
    "student1 + student2"
   ]
  },
  {
   "cell_type": "code",
   "execution_count": 5,
   "metadata": {},
   "outputs": [
    {
     "name": "stdout",
     "output_type": "stream",
     "text": [
      "144\n",
      "=========\n",
      "170\n",
      "=========\n",
      "164\n",
      "=========\n",
      "167\n",
      "=========\n",
      "177\n",
      "=========\n"
     ]
    }
   ],
   "source": [
    "import numpy as np\n",
    "from numpy import ndarray\n",
    "student1:ndarray = np.array([69, 78, 72, 91, 85])\n",
    "student2:ndarray = np.array([75, 92, 92, 76, 92])\n",
    "\n",
    "#可以做陣列運算,不需使用for...in\n",
    "totols:ndarray= student1 + student2\n",
    "for total in totols:\n",
    "    print(total)\n",
    "    print(\"=========\")"
   ]
  },
  {
   "cell_type": "code",
   "execution_count": 6,
   "metadata": {},
   "outputs": [
    {
     "name": "stdout",
     "output_type": "stream",
     "text": [
      "[[1 2 3]\n",
      " [4 5 6]]\n",
      "2\n",
      "(2, 3)\n",
      "6\n",
      "int64\n"
     ]
    }
   ],
   "source": [
    "array:ndarray = np.array([[1,2,3],[4,5,6]])\n",
    "print(array)\n",
    "#property\n",
    "#ndim,shape,size,dtype\n",
    "\n",
    "print(array.ndim)\n",
    "print(array.shape)\n",
    "print(array.size)\n",
    "print(array.dtype)\n"
   ]
  },
  {
   "cell_type": "code",
   "execution_count": 7,
   "metadata": {},
   "outputs": [
    {
     "data": {
      "text/plain": [
       "array([[ 91,  60,  81,  94,  90],\n",
       "       [ 60,  99,  59,  67,  70],\n",
       "       [ 72,  77,  53,  73,  52],\n",
       "       [ 84,  81,  68,  82,  73],\n",
       "       [ 63,  54,  64,  97,  62],\n",
       "       [ 60,  93,  88,  50,  51],\n",
       "       [ 93,  54,  98,  78,  62],\n",
       "       [ 92,  87,  99,  50,  70],\n",
       "       [ 96,  71,  50,  56,  60],\n",
       "       [ 54,  72,  68,  96,  98],\n",
       "       [ 66,  70,  61,  68,  96],\n",
       "       [ 81,  56,  95,  77,  55],\n",
       "       [ 72,  86,  67,  71,  50],\n",
       "       [ 50,  89,  66,  87,  92],\n",
       "       [ 89,  70,  71,  70,  59],\n",
       "       [ 99,  72,  80,  74,  52],\n",
       "       [ 58,  93,  74,  86,  82],\n",
       "       [ 58,  60,  54,  63,  54],\n",
       "       [ 90,  89,  74,  78,  92],\n",
       "       [ 77,  66,  96,  87,  56],\n",
       "       [ 65,  53,  61,  89,  89],\n",
       "       [ 71,  82,  85,  72,  60],\n",
       "       [ 77,  73,  82,  76,  59],\n",
       "       [ 69,  83,  85,  93,  99],\n",
       "       [ 74,  51,  69,  99,  95],\n",
       "       [ 81,  52,  58, 100,  77],\n",
       "       [ 91,  95,  54,  76,  98],\n",
       "       [ 69,  70,  86,  74,  92],\n",
       "       [100,  87,  60,  53,  78],\n",
       "       [ 60,  50,  52,  91,  97],\n",
       "       [ 92,  64,  74,  97,  50],\n",
       "       [ 78,  80,  56,  98,  94],\n",
       "       [ 94,  97,  98,  77,  82],\n",
       "       [ 94,  87,  66,  81,  92],\n",
       "       [ 99,  66,  91,  79,  96],\n",
       "       [ 65,  52,  71,  72,  83],\n",
       "       [ 64,  56,  72,  89,  81],\n",
       "       [ 94,  74,  78,  76,  82],\n",
       "       [ 55,  54,  57,  68,  88],\n",
       "       [ 86,  56,  88,  95,  60],\n",
       "       [ 75,  83,  94,  89,  62],\n",
       "       [ 94,  60,  83,  79,  99],\n",
       "       [ 67,  59,  56,  84,  96],\n",
       "       [ 98,  99,  62,  76,  97],\n",
       "       [ 75,  59,  90,  90,  60],\n",
       "       [ 98,  96,  90,  99,  66],\n",
       "       [ 91,  97,  94,  78,  90],\n",
       "       [ 93,  54,  94,  99,  67],\n",
       "       [ 85,  95,  52,  58,  96],\n",
       "       [ 65,  56,  68,  62,  97]])"
      ]
     },
     "execution_count": 7,
     "metadata": {},
     "output_type": "execute_result"
    }
   ],
   "source": [
    "np.random.randint(50,101,size=(50, 5))"
   ]
  }
 ],
 "metadata": {
  "kernelspec": {
   "display_name": "Python 3",
   "language": "python",
   "name": "python3"
  },
  "language_info": {
   "codemirror_mode": {
    "name": "ipython",
    "version": 3
   },
   "file_extension": ".py",
   "mimetype": "text/x-python",
   "name": "python",
   "nbconvert_exporter": "python",
   "pygments_lexer": "ipython3",
   "version": "3.10.14"
  }
 },
 "nbformat": 4,
 "nbformat_minor": 2
}
