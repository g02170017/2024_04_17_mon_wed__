{
 "cells": [
  {
   "cell_type": "markdown",
   "metadata": {},
   "source": [
    "## 輸出->print()\n",
    "## 輸入->input()"
   ]
  },
  {
   "cell_type": "code",
   "execution_count": 1,
   "metadata": {},
   "outputs": [
    {
     "name": "stdout",
     "output_type": "stream",
     "text": [
      "寬:10.0公分,高:15.0公分,面積:150.0平方公分\n"
     ]
    }
   ],
   "source": [
    "width:float = float(input('請輸入矩形寬:'))\n",
    "height:float = float(input('請輸入矩形高:'))\n",
    "area:float = width * height\n",
    "print(f'寬:{width}公分,高:{height}公分,面積:{area}平方公分')"
   ]
  },
  {
   "cell_type": "code",
   "execution_count": 3,
   "metadata": {},
   "outputs": [
    {
     "name": "stdout",
     "output_type": "stream",
     "text": [
      "計算圓面積\n",
      "圓半徑:12.3,圓面積:475.29\n",
      "圓半徑:12.3,圓面積:475.2915444540001\n",
      "圓半徑:12.30000,圓面積:475.29\n"
     ]
    }
   ],
   "source": [
    "#計算圓面積\n",
    "print(\"計算圓面積\")\n",
    "radius:float = float(input(\"請輸入半徑:\"))\n",
    "PI = 3.1415926\n",
    "area:float = PI * radius ** 2\n",
    "print(f\"圓半徑:{radius},圓面積:{PI * radius ** 2:.2f}\")\n",
    "print(f\"圓半徑:{radius},圓面積:{area}\")\n",
    "print(f\"圓半徑:{radius:.5f},圓面積:{area:.2f}\")"
   ]
  },
  {
   "cell_type": "code",
   "execution_count": 8,
   "metadata": {},
   "outputs": [
    {
     "name": "stdout",
     "output_type": "stream",
     "text": [
      "計算圓面積\n",
      "圓半徑:3.78,圓面積:44.89\n",
      "圓半徑:3.78,圓面積:44.888332471552395\n",
      "圓半徑:3.78000,圓面積:44.89\n"
     ]
    }
   ],
   "source": [
    "#計算圓面積\n",
    "print(\"計算圓面積\")\n",
    "import math\n",
    "radius:float = float(input(\"請輸入半徑:\"))\n",
    "PI = 3.1415926\n",
    "area:float = math.pi * radius ** 2\n",
    "print(f\"圓半徑:{radius},圓面積:{PI * radius ** 2:.2f}\")\n",
    "print(f\"圓半徑:{radius},圓面積:{area}\")\n",
    "print(f\"圓半徑:{radius:.5f},圓面積:{area:.2f}\")"
   ]
  },
  {
   "cell_type": "code",
   "execution_count": 24,
   "metadata": {},
   "outputs": [
    {
     "name": "stdout",
     "output_type": "stream",
     "text": [
      "你的年齡是25\n",
      "你的年齡是25歲好老\n"
     ]
    }
   ],
   "source": [
    "## 年齡計算\n",
    "year:int =  int(input(\"請輸入民國出生:\"))\n",
    "you:int = int(113 - year)\n",
    "print('你的年齡是' + str(you))\n",
    "print(f\"你的年齡是{you}歲好老\")\n"
   ]
  }
 ],
 "metadata": {
  "kernelspec": {
   "display_name": "Python 3",
   "language": "python",
   "name": "python3"
  },
  "language_info": {
   "codemirror_mode": {
    "name": "ipython",
    "version": 3
   },
   "file_extension": ".py",
   "mimetype": "text/x-python",
   "name": "python",
   "nbconvert_exporter": "python",
   "pygments_lexer": "ipython3",
   "version": "3.10.14"
  }
 },
 "nbformat": 4,
 "nbformat_minor": 2
}
