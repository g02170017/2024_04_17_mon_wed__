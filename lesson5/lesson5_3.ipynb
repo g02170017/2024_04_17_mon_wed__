{
 "cells": [
  {
   "cell_type": "code",
   "execution_count": 1,
   "metadata": {},
   "outputs": [],
   "source": [
    "import pyinputplus as pyip"
   ]
  },
  {
   "cell_type": "code",
   "execution_count": 4,
   "metadata": {},
   "outputs": [
    {
     "name": "stdout",
     "output_type": "stream",
     "text": [
      "axc您的bmi為24.02\n"
     ]
    }
   ],
   "source": [
    "try:\n",
    "    name = input(\"請輸入您的姓名\")\n",
    "    height = float(input(\"請輸入您的身高:cm\"))\n",
    "    weight = float(input(\"請輸入您的體重:kg\"))\n",
    "    bmi = round (weight / ((height / 100) * 2),ndigits=2) \n",
    "    print(f\"{name}您的bmi為{bmi}\")\n",
    "except Exception as e:\n",
    "    print(f\"發生錯誤{e}\")"
   ]
  },
  {
   "cell_type": "code",
   "execution_count": 12,
   "metadata": {},
   "outputs": [
    {
     "name": "stdout",
     "output_type": "stream",
     "text": [
      "travis您的bmi:24.02\n"
     ]
    }
   ],
   "source": [
    "try:\n",
    "    name = input(\"請輸入您的姓名\")\n",
    "    height = float(input(\"請輸入您的身高:cm\"))\n",
    "    weight = float(input(\"請輸入您的體重:kg\"))\n",
    "    bmi = weight / ((height / 100) * 2)\n",
    "    print(f\"{name}您的bmi:{bmi:.2f}\")\n",
    "except Exception as e:\n",
    "    print(f\"發生錯誤{e}\")"
   ]
  },
  {
   "cell_type": "code",
   "execution_count": null,
   "metadata": {},
   "outputs": [],
   "source": []
  }
 ],
 "metadata": {
  "kernelspec": {
   "display_name": "Python 3",
   "language": "python",
   "name": "python3"
  },
  "language_info": {
   "codemirror_mode": {
    "name": "ipython",
    "version": 3
   },
   "file_extension": ".py",
   "mimetype": "text/x-python",
   "name": "python",
   "nbconvert_exporter": "python",
   "pygments_lexer": "ipython3",
   "version": "3.10.14"
  }
 },
 "nbformat": 4,
 "nbformat_minor": 2
}
