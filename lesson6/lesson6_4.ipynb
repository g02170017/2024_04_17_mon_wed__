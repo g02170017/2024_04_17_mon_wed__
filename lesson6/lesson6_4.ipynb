{
 "cells": [
  {
   "cell_type": "code",
   "execution_count": 10,
   "metadata": {},
   "outputs": [
    {
     "name": "stdout",
     "output_type": "stream",
     "text": [
      "中度肥胖\n",
      "rijgei, 您的BMI: 32.05\n"
     ]
    }
   ],
   "source": [
    "try:\n",
    "    name = input('請輸入姓名:')\n",
    "    height = float(input('請輸入身高(120~230)(cm):')) \n",
    "    if height<120 or height>230:\n",
    "        raise Exception(\"身高必需大於120同時小於230\")    \n",
    "    weight = float(input('請輸入體重(40~170)(kg):'))\n",
    "    if weight<40 or weight>170:\n",
    "        raise Exception(\"體重必需大於40同時小於170\")\n",
    "    bmi = weight / (height / 100) ** 2\n",
    "    if bmi<18.5:\n",
    "        print(\"體重過輕\")\n",
    "    elif bmi>=18.5 and bmi<24:\n",
    "        print(\"正常範圍\")\n",
    "    elif bmi>=24 and bmi<27:\n",
    "        print(\"過重\")\n",
    "    elif bmi>=27 and bmi<30:\n",
    "        print(\"輕度肥胖\")\n",
    "    elif bmi>=30 and bmi<35:\n",
    "        print(\"中度肥胖\")\n",
    "    else:\n",
    "        print(\"重度肥胖\")\n",
    "    print(f'{name}, 您的BMI: {round(bmi,ndigits=2)}')\n",
    "    #您的體重:正常\n",
    "except Exception as e:\n",
    "    print(f'錯誤: {e}')"
   ]
  },
  {
   "cell_type": "code",
   "execution_count": 1,
   "metadata": {},
   "outputs": [
    {
     "name": "stdout",
     "output_type": "stream",
     "text": [
      "請輸入身高,max:230,min:120:1a1, 您的BMI: 44.39\n"
     ]
    }
   ],
   "source": [
    "try:\n",
    "    import pyinputplus as pyip\n",
    "    bmi = pyip.inputFloat(\"請輸入身高,max:230,min:120:\")\n",
    "    name = input('請輸入姓名:')\n",
    "    height = float(input('請輸入身高(120~230)(cm):')) \n",
    "    if height<120 or height>230:\n",
    "        raise Exception(\"身高必需大於120同時小於230\")    \n",
    "    weight = float(input('請輸入體重(40~170)(kg):'))\n",
    "    if weight<40 or weight>170:\n",
    "        raise Exception(\"體重必需大於40同時小於170\")\n",
    "    bmi = weight / (height / 100) ** 2\n",
    "    print(f'{name}, 您的BMI: {round(bmi,ndigits=2)}')\n",
    "except Exception as e:\n",
    "    print(f'錯誤: {e}')"
   ]
  }
 ],
 "metadata": {
  "kernelspec": {
   "display_name": "Python 3",
   "language": "python",
   "name": "python3"
  },
  "language_info": {
   "codemirror_mode": {
    "name": "ipython",
    "version": 3
   },
   "file_extension": ".py",
   "mimetype": "text/x-python",
   "name": "python",
   "nbconvert_exporter": "python",
   "pygments_lexer": "ipython3",
   "version": "3.10.14"
  }
 },
 "nbformat": 4,
 "nbformat_minor": 2
}
