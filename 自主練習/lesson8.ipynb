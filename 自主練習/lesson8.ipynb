{
 "cells": [
  {
   "cell_type": "markdown",
   "metadata": {},
   "source": [
    "### 請使用pyInputPlus修改以下程式 #8"
   ]
  },
  {
   "cell_type": "code",
   "execution_count": 5,
   "metadata": {},
   "outputs": [
    {
     "name": "stdout",
     "output_type": "stream",
     "text": [
      "請輸入身高(120~230)(cm):Number must be at minimum 120.\n",
      "請輸入身高(120~230)(cm):Number must be at minimum 120.\n",
      "請輸入身高(120~230)(cm):請輸入體重(40~170)(kg):travis, 您的BMI: 26.51\n"
     ]
    }
   ],
   "source": [
    "import pyinputplus as pyip\n",
    "name = input('請輸入姓名:')\n",
    "height = pyip.inputInt('請輸入身高(120~230)(cm):',min=120,max=230)   \n",
    "weight = pyip.inputInt('請輸入體重(40~170)(kg):',min=40,max=170)\n",
    "bmi = weight / (height / 100) ** 2\n",
    "print(f'{name}, 您的BMI: {round(bmi,ndigits=2)}')\n"
   ]
  }
 ],
 "metadata": {
  "kernelspec": {
   "display_name": "Python 3",
   "language": "python",
   "name": "python3"
  },
  "language_info": {
   "codemirror_mode": {
    "name": "ipython",
    "version": 3
   },
   "file_extension": ".py",
   "mimetype": "text/x-python",
   "name": "python",
   "nbconvert_exporter": "python",
   "pygments_lexer": "ipython3",
   "version": "3.10.14"
  }
 },
 "nbformat": 4,
 "nbformat_minor": 2
}
