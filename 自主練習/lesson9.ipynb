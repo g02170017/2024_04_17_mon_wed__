{
 "cells": [
  {
   "cell_type": "markdown",
   "metadata": {},
   "source": [
    "輸入:\n",
    "請輸入整數,求所有因數:10\n",
    "\n",
    "輸出:\n",
    "10的因數是:\n",
    "1 2 5 10"
   ]
  },
  {
   "cell_type": "code",
   "execution_count": 27,
   "metadata": {},
   "outputs": [
    {
     "name": "stdout",
     "output_type": "stream",
     "text": [
      "請輸入值:你輸入的值為:66\n",
      "因數為:\n",
      "1\n",
      "2\n",
      "3\n",
      "6\n",
      "11\n",
      "22\n",
      "33\n",
      "66\n"
     ]
    }
   ],
   "source": [
    "import pyinputplus as pyip\n",
    "\n",
    "n = pyip.inputInt(\"請輸入值:\",min=1)\n",
    "print(f\"你輸入的值為:{n}\")\n",
    "print(\"因數為:\")\n",
    "for i in range(1,n+1):\n",
    "    if n % i == 0:\n",
    "        print(i)\n",
    "\n",
    "\n"
   ]
  }
 ],
 "metadata": {
  "kernelspec": {
   "display_name": "Python 3",
   "language": "python",
   "name": "python3"
  },
  "language_info": {
   "codemirror_mode": {
    "name": "ipython",
    "version": 3
   },
   "file_extension": ".py",
   "mimetype": "text/x-python",
   "name": "python",
   "nbconvert_exporter": "python",
   "pygments_lexer": "ipython3",
   "version": "3.10.14"
  }
 },
 "nbformat": 4,
 "nbformat_minor": 2
}
