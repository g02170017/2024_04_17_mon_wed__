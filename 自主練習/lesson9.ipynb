{
 "cells": [
  {
   "cell_type": "markdown",
   "metadata": {},
   "source": [
    "輸入:\n",
    "請輸入整數,求所有因數:10\n",
    "\n",
    "輸出:\n",
    "10的因數是:\n",
    "1 2 5 10"
   ]
  },
  {
   "cell_type": "code",
   "execution_count": 1,
   "metadata": {},
   "outputs": [
    {
     "name": "stdout",
     "output_type": "stream",
     "text": [
      "請輸入值:你輸入的值為:10\n",
      "因數為:\n",
      "1\n",
      "2\n",
      "5\n",
      "10\n"
     ]
    }
   ],
   "source": [
    "import pyinputplus as pyip\n",
    "\n",
    "n = pyip.inputInt(\"請輸入值:\",min=1)\n",
    "print(f\"你輸入的值為:{n}\")\n",
    "print(\"因數為:\")\n",
    "for i in range(1,n+1):\n",
    "    if n % i == 0:\n",
    "        print(i)\n",
    "\n",
    "\n"
   ]
  },
  {
   "cell_type": "code",
   "execution_count": 14,
   "metadata": {},
   "outputs": [
    {
     "name": "stdout",
     "output_type": "stream",
     "text": [
      "請輸入身高120~230e公分,min=120,max=230請輸入體重30~150公斤,min=30,max=150\n",
      "travis, 您的BMI: 26.53\n",
      "你的體重:過重\n"
     ]
    }
   ],
   "source": [
    "import pyinputplus as pyip\n",
    "\n",
    "def my_bmi(h:float,w:float)->float:\n",
    "    return w / (h / 100) **2\n",
    "\n",
    "def wile_bmi(bmi:float):\n",
    "    if bmi < 18.5:\n",
    "        result = '過輕'\n",
    "    elif bmi < 24:\n",
    "        result = '正常'\n",
    "    elif bmi < 27:\n",
    "        result = '過重'\n",
    "    elif bmi < 30:\n",
    "        result = '輕度肥胖'\n",
    "    elif bmi < 35:\n",
    "        result = '中度肥胖'\n",
    "    else:\n",
    "        result = '重度肥胖'\n",
    "    return result\n",
    "\n",
    "name = input(\"請輸入姓名:\")\n",
    "h = pyip.inputFloat(\"請輸入身高120~230e公分,min=120,max=230\")\n",
    "w = pyip.inputFloat(\"請輸入體重30~150公斤,min=30,max=150\")\n",
    "\n",
    "bmi = my_bmi(h,w)\n",
    "sados = wile_bmi(bmi)\n",
    "\n",
    "\n",
    "print(f'\\n{name}, 您的BMI: {bmi:.2f}')\n",
    "print(f\"你的體重:{sados}\")\n",
    "\n",
    "\n",
    "\n"
   ]
  },
  {
   "cell_type": "code",
   "execution_count": 15,
   "metadata": {},
   "outputs": [
    {
     "name": "stdout",
     "output_type": "stream",
     "text": [
      "請輸入身高(120~230)(cm): 請輸入體重(40~170)(kg): \n",
      "travis, 您的BMI: 26.53\n",
      "您的體重: 過重\n"
     ]
    }
   ],
   "source": [
    "import pyinputplus as pyip\n",
    "\n",
    "def calc_bmi(height: float, weight: float) -> float:\n",
    "    return weight / (height / 100) ** 2\n",
    "\n",
    "def get_status(bmi: float) -> str:\n",
    "    if bmi < 18.5:\n",
    "        result = '過輕'\n",
    "    elif bmi < 24:\n",
    "        result = '正常'\n",
    "    elif bmi < 27:\n",
    "        result = '過重'\n",
    "    elif bmi < 30:\n",
    "        result = '輕度肥胖'\n",
    "    elif bmi < 35:\n",
    "        result = '中度肥胖'\n",
    "    else:\n",
    "        result = '重度肥胖'\n",
    "    return result\n",
    "\n",
    "name = input('請輸入姓名: ')\n",
    "height = pyip.inputFloat('請輸入身高(120~230)(cm): ', min=120, max=230)\n",
    "weight = pyip.inputFloat('請輸入體重(40~170)(kg): ', min=40, max=170)\n",
    "\n",
    "bmi = calc_bmi(height, weight)\n",
    "status = get_status(bmi)\n",
    "\n",
    "print(f'\\n{name}, 您的BMI: {bmi:.2f}')\n",
    "print(f'您的體重: {status}')"
   ]
  }
 ],
 "metadata": {
  "kernelspec": {
   "display_name": "Python 3",
   "language": "python",
   "name": "python3"
  },
  "language_info": {
   "codemirror_mode": {
    "name": "ipython",
    "version": 3
   },
   "file_extension": ".py",
   "mimetype": "text/x-python",
   "name": "python",
   "nbconvert_exporter": "python",
   "pygments_lexer": "ipython3",
   "version": "3.10.14"
  }
 },
 "nbformat": 4,
 "nbformat_minor": 2
}
