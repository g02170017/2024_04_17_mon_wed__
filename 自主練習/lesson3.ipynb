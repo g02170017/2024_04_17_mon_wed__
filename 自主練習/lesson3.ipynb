{
 "cells": [
  {
   "cell_type": "markdown",
   "metadata": {},
   "source": [
    "## 建立變數\n",
    "- 開頭不可以用數字\n",
    "- 特別符號只可以使用_(底線)\n",
    "\n",
    "## python使用的是動態型別\n",
    "- 可讓變數轉換型別 int -> float\n",
    "- type hint  n:int\n",
    "\n",
    "## 字串和變數的整合\n",
    "- 內建function int() 或字串差補 f\"xxx{n}\"\n",
    "\n",
    "## 輸入 -> input() ->字串 需轉換型別做運算\n",
    "- .2f 小數點後運用\n",
    "\n"
   ]
  },
  {
   "cell_type": "markdown",
   "metadata": {},
   "source": [
    "- function = 函式 = 指令\n",
    "- module = 功能 import xxx 進入此功能方可以用 function"
   ]
  }
 ],
 "metadata": {
  "kernelspec": {
   "display_name": "Python 3",
   "language": "python",
   "name": "python3"
  },
  "language_info": {
   "name": "python",
   "version": "3.10.14"
  }
 },
 "nbformat": 4,
 "nbformat_minor": 2
}
